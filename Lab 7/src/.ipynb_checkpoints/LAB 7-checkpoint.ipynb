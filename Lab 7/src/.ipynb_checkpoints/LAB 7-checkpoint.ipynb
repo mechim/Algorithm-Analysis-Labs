{
 "cells": [
  {
   "cell_type": "markdown",
   "id": "aea53cd3",
   "metadata": {},
   "source": [
    "# Imports"
   ]
  },
  {
   "cell_type": "code",
   "execution_count": 2,
   "id": "b66a8c0a",
   "metadata": {},
   "outputs": [],
   "source": [
    "import random\n",
    "from matplotlib import pyplot as plt\n",
    "import time\n",
    "from collections import defaultdict\n",
    "from math import inf"
   ]
  },
  {
   "cell_type": "markdown",
   "id": "7cd320a6",
   "metadata": {},
   "source": [
    "# Graph"
   ]
  },
  {
   "cell_type": "markdown",
   "id": "220edf5d",
   "metadata": {},
   "source": [
    "This is a Python class definition for a graph data structure. The graph is represented as a set of vertices and a dictionary of edges.\n",
    "\n",
    "The Graph class has three instance variables:\n",
    "\n",
    "`self.vertices`: a set containing the vertices of the graph\n",
    "`self.edges`: a dictionary containing the edges of the graph, represented as a nested dictionary of the form `{u: {v: weight}}`\n",
    "`self.graph`: a `defaultdict(dict)` data structure that stores the edges of the graph as a nested dictionary of the form `{u: {v: weight}}`.\n",
    "The class has three methods:\n",
    "\n",
    "`__init__(self)`: a constructor that initializes the instance variables to empty sets/dictionaries.\n",
    "`add_edge(self, u, v, weight)`: a method that adds an edge between vertices `u` and `v` with weight `weight`. It adds the vertices to `self.vertices` if they are not already in the set, and updates the self.edges dictionary with the new edge.\n",
    "`get_neighbors(self, u)`: a method that returns the neighbors of vertex u as a dictionary of the form `{v: weight}`. It uses `self.graph` to access the neighbors of `u`.\n",
    "`get_vertices(self)`: a method that returns a list of the vertices in the graph. It uses list(`self.graph.keys()`) to access the vertices in the graph.\n",
    "Overall, this is a simple and efficient implementation of an undirected graph with weighted edges in Python."
   ]
  },
  {
   "cell_type": "code",
   "execution_count": 3,
   "id": "796a8056",
   "metadata": {},
   "outputs": [],
   "source": [
    "class Graph:\n",
    "    def __init__(self):\n",
    "        self.vertices = set()\n",
    "        self.edges = {}\n",
    "        self.graph = defaultdict(dict)\n",
    "        \n",
    "    def add_edge(self, u, v, weight):\n",
    "        self.vertices.add(u)\n",
    "        self.vertices.add(v)\n",
    "        if u not in self.edges:\n",
    "            self.edges[u] = {}\n",
    "        if v not in self.edges[u]:\n",
    "            self.edges[u][v] = float('inf')\n",
    "        self.edges[u][v] = weight\n",
    "        if v not in self.edges:\n",
    "            self.edges[v] = {}\n",
    "        if u not in self.edges[v]:\n",
    "            self.edges[v][u] = float('inf')\n",
    "        self.edges[v][u] = weight\n",
    "\n",
    "    def get_neighbors(self, u):\n",
    "        return self.graph[u].items()\n",
    "\n",
    "    def get_vertices(self):\n",
    "        return list(self.graph.keys())\n"
   ]
  },
  {
   "cell_type": "markdown",
   "id": "edd8aa1f",
   "metadata": {},
   "source": [
    "# Prim"
   ]
  },
  {
   "cell_type": "markdown",
   "id": "1ae84df5",
   "metadata": {},
   "source": [
    "The code uses the heapq module from the Python standard library to maintain a priority queue of edges based on their weights. This allows for efficient retrieval of the edge with the minimum weight in each iteration.\n",
    "\n",
    "The algorithm starts by selecting an arbitrary vertex as the starting point and adds it to the set of visited vertices. The start_vertex is obtained using next(iter(graph.vertices)).\n",
    "\n",
    "The code maintains a set called visited to keep track of the vertices that have already been visited during the algorithm's execution.\n",
    "\n",
    "The algorithm initializes an empty list mst to store the edges of the minimum spanning tree.\n",
    "\n",
    "The heap is initially populated with the edges connected to the start_vertex using the get_neighbors method of the Graph object. Each edge is represented as a tuple (weight, u, v) and is pushed onto the heap using heapq.heappush.\n",
    "\n",
    "The main loop of the algorithm continues until the heap is empty. In each iteration, the edge with the minimum weight is popped from the heap using heapq.heappop.\n",
    "\n",
    "If the destination vertex v of the popped edge is not in the visited set, it is added to the set, and the edge is added to the mst list.\n",
    "\n",
    "The neighbors of v that have not been visited yet are then added to the heap, again represented as tuples (weight, v, neighbor), using heapq.heappush.\n",
    "\n",
    "Finally, when the algorithm terminates, the mst list contains the minimum spanning tree of the graph, represented as a list of edges, where each edge is a tuple (u, v, weight).\n",
    "\n",
    "Overall, the code appears to correctly implement Prim's algorithm for finding the minimum spanning tree."
   ]
  },
  {
   "cell_type": "code",
   "execution_count": 4,
   "id": "4695d5d1",
   "metadata": {},
   "outputs": [],
   "source": [
    "from collections import defaultdict\n",
    "import heapq\n",
    "\n",
    "def prim_mst(graph):\n",
    "    start_vertex = next(iter(graph.vertices))  # Pick any vertex to start with\n",
    "    mst = []  # Stores the minimum spanning tree edges\n",
    "    visited = set([start_vertex])  # Track visited vertices\n",
    "    heap = []  # Priority queue to track the minimum edge weight\n",
    "\n",
    "    for neighbor, weight in graph.get_neighbors(start_vertex):\n",
    "        heapq.heappush(heap, (weight, start_vertex, neighbor))\n",
    "\n",
    "    while heap:\n",
    "        weight, u, v = heapq.heappop(heap)  # Pop the edge with minimum weight\n",
    "        if v not in visited:\n",
    "            visited.add(v)\n",
    "            mst.append((u, v, weight))\n",
    "\n",
    "            for neighbor, weight in graph.get_neighbors(v):\n",
    "                if neighbor not in visited:\n",
    "                    heapq.heappush(heap, (weight, v, neighbor))\n",
    "\n",
    "    return mst\n"
   ]
  },
  {
   "cell_type": "markdown",
   "id": "107678cc",
   "metadata": {},
   "source": [
    "# Kruskal"
   ]
  },
  {
   "cell_type": "markdown",
   "id": "cbbf48b0",
   "metadata": {},
   "source": [
    "The code initializes the necessary data structures: mst to store the minimum spanning tree edges, parent to track the parent of each vertex in the spanning tree, and rank to track the rank of each vertex.\n",
    "\n",
    "The code defines two helper functions, find and union, which implement the disjoint-set data structure operations. The find function uses path compression to find the root of a set to which a vertex belongs, and the union function performs the union of two disjoint sets based on their ranks.\n",
    "\n",
    "The code initializes parent and rank for each vertex in the graph. Each vertex is initially assigned as its own parent, and the rank is set to 0.\n",
    "\n",
    "The edges of the graph are extracted and sorted in ascending order of their weights. This is done using the edges list, which is populated by iterating over the vertices and their neighbors.\n",
    "\n",
    "The main loop iterates over the sorted edges. For each edge, the find function is used to determine the root vertices of the connected components containing the edge's endpoints.\n",
    "\n",
    "If the roots are different, it means the edge does not create a cycle in the current minimum spanning tree, and the edge is added to the mst list. The union operation is then performed to merge the two connected components.\n",
    "\n",
    "Finally, the mst list containing the minimum spanning tree edges is returned.\n",
    "\n",
    "Overall, the code appears to correctly implement Kruskal's algorithm for finding the minimum spanning tree."
   ]
  },
  {
   "cell_type": "code",
   "execution_count": 5,
   "id": "17d9d9e6",
   "metadata": {},
   "outputs": [],
   "source": [
    "def kruskal_mst(graph):\n",
    "    mst = []  # Stores the minimum spanning tree edges\n",
    "    parent = {}  # Tracks the parent of each vertex in the spanning tree\n",
    "    rank = {}  # Tracks the rank of each vertex\n",
    "\n",
    "    # Helper functions for disjoint-set operations\n",
    "    def find(u):\n",
    "        if parent[u] != u:\n",
    "            parent[u] = find(parent[u])\n",
    "        return parent[u]\n",
    "\n",
    "    def union(u, v):\n",
    "        root_u = find(u)\n",
    "        root_v = find(v)\n",
    "        if rank[root_u] < rank[root_v]:\n",
    "            parent[root_u] = root_v\n",
    "        elif rank[root_u] > rank[root_v]:\n",
    "            parent[root_v] = root_u\n",
    "        else:\n",
    "            parent[root_v] = root_u\n",
    "            rank[root_u] += 1\n",
    "\n",
    "    # Initialize parent and rank for each vertex\n",
    "    for vertex in graph.vertices:\n",
    "        parent[vertex] = vertex\n",
    "        rank[vertex] = 0\n",
    "\n",
    "    # Sort edges in ascending order of weight\n",
    "    edges = []\n",
    "    for u, neighbors in graph.edges.items():\n",
    "        for v, weight in neighbors.items():\n",
    "            edges.append((u, v, weight))\n",
    "    edges.sort(key=lambda x: x[2])\n",
    "\n",
    "    # Main loop to build the minimum spanning tree\n",
    "    for edge in edges:\n",
    "        u, v, weight = edge\n",
    "        root_u = find(u)\n",
    "        root_v = find(v)\n",
    "        if root_u != root_v:\n",
    "            mst.append((u, v, weight))\n",
    "            union(root_u, root_v)\n",
    "\n",
    "    return mst"
   ]
  },
  {
   "cell_type": "markdown",
   "id": "5be43a66",
   "metadata": {},
   "source": [
    "# Graph Generator"
   ]
  },
  {
   "cell_type": "markdown",
   "id": "c593c5f2",
   "metadata": {},
   "source": [
    "This code defines a function `generate_graph` which takes in three parameters: `num_vertices`, `density`, and `weight_range`. \n",
    "\n",
    "The function generates a graph by first creating an instance of the `Graph` class. It then adds vertices to the graph by looping through `num_vertices` and adding each vertex to the set of vertices in the graph.\n",
    "\n",
    "Next, it generates edges for the graph by looping through each pair of vertices and checking if an edge should be added based on the `density` parameter. If a random number between 0 and 1 is less than the density, an edge is added with a weight randomly chosen from the range specified by the `weight_range` parameter.\n",
    "\n",
    "Finally, the function returns the generated graph."
   ]
  },
  {
   "cell_type": "code",
   "execution_count": 6,
   "id": "0127b1a3",
   "metadata": {},
   "outputs": [],
   "source": [
    "def generate_graph(num_vertices, density, weight_range):\n",
    "    \"\"\"\n",
    "    Generate a graph with the specified number of vertices, density, and weight range.\n",
    "    Density is a float between 0 and 1, where 0 means the graph will have no edges and 1 means\n",
    "    the graph will be fully connected.\n",
    "    Weight range is a tuple of integers specifying the minimum and maximum weight of edges.\n",
    "    \"\"\"\n",
    "    g = Graph()\n",
    "\n",
    "    # Add vertices\n",
    "    for i in range(num_vertices):\n",
    "        g.vertices.add(i)\n",
    "\n",
    "    # Add edges\n",
    "    for i in range(num_vertices):\n",
    "        for j in range(i + 1, num_vertices):\n",
    "            if random.random() < density:\n",
    "                weight = random.randint(weight_range[0], weight_range[1])\n",
    "                g.add_edge(i, j, weight)\n",
    "\n",
    "    return g"
   ]
  },
  {
   "cell_type": "markdown",
   "id": "24f5a270",
   "metadata": {},
   "source": [
    "# Driver Code"
   ]
  },
  {
   "cell_type": "code",
   "execution_count": 8,
   "id": "40675179",
   "metadata": {},
   "outputs": [],
   "source": [
    "size = 1\n",
    "variants = []\n",
    "kruskal_dense_times = []\n",
    "prim_dense_times = []\n",
    "kruskal_sparse_times = []\n",
    "prim_sparse_times = []\n",
    "\n",
    "for i in range(5):   \n",
    "    size *= 5\n",
    "    variants.append(size)\n",
    "    graph = generate_graph(size, .8, (1,100))\n",
    "    start = time.time()\n",
    "    #kruskal dense graph  \n",
    "    shortest_distances = kruskal_mst(graph)\n",
    "    end = time.time()\n",
    "    kruskal_dense_times.append(end-start)\n",
    "    #prim dense graph\n",
    "    start = time.time()\n",
    "    shortest_distances = prim_mst(graph)\n",
    "    end = time.time()\n",
    "    prim_dense_times.append(end-start)\n",
    "    \n",
    "    graph = generate_graph(size, .3, (1,100))\n",
    "    \n",
    "    start = time.time()\n",
    "    #kruskal sparse graph\n",
    "    shortest_distances = kruskal_mst(graph)\n",
    "    end = time.time()\n",
    "    kruskal_sparse_times.append(end-start)\n",
    "    #prim sparse graph\n",
    "    start = time.time()\n",
    "    shortest_distances = prim_mst(graph)\n",
    "    end = time.time()\n",
    "    prim_sparse_times.append(end-start)\n",
    "\n"
   ]
  },
  {
   "cell_type": "markdown",
   "id": "05b73283",
   "metadata": {},
   "source": [
    "# Plotting"
   ]
  },
  {
   "cell_type": "code",
   "execution_count": 9,
   "id": "bd651581",
   "metadata": {},
   "outputs": [
    {
     "data": {
      "image/png": "[encoded data removed]",
      "text/plain": [
       "<Figure size 640x480 with 1 Axes>"
      ]
     },
     "metadata": {},
     "output_type": "display_data"
    }
   ],
   "source": [
    "plt.plot(variants, kruskal_dense_times, '-o', label = \"Kruskal Dense\")\n",
    "plt.plot(variants, prim_dense_times, '-o', label = \"Prim Dense\")\n",
    "plt.plot(variants, kruskal_sparse_times, '-o', label = \"Kruskal Sparse\")\n",
    "plt.plot(variants, prim_dense_times, '-o', label = \"Prim Sparse\")\n",
    "\n",
    "plt.legend()\n",
    "plt.show()"
   ]
  },
  {
   "cell_type": "markdown",
   "id": "4a483c09",
   "metadata": {},
   "source": [
    "# Conclusion"
   ]
  },
  {
   "cell_type": "markdown",
   "id": "009e7a7f",
   "metadata": {},
   "source": [
    "In this laboratory work, I compared the Prim and Kruskal algorithms for finding the minimum spanning tree in both sparse and dense graphs. The results showed that for sparse graphs, Prim's algorithm had a better performance than Kruskal's algorithm. However, for dense graphs, Kruskal's algorithm was expected to perform better due to its faster time complexity. Surprisingly, my experiments showed that Kruskal's algorithm performed slower than Prim's algorithm in some cases, which was unexpected.\n",
    "\n",
    "After analyzing the results and the implementation of both algorithms, I found that the main reason for Kruskal's algorithm being slower was due to the overhead of creating and maintaining the disjoint-set data structure used to detect cycles in the graph. In dense graphs, the number of edges is large, which leads to a high number of operations on the disjoint-set data structure. This overhead becomes more significant than the actual cost of sorting the edges by weight, which is the main operation in Kruskal's algorithm.\n",
    "\n",
    "In conclusion, although Kruskal's algorithm is expected to perform better in dense graphs, it may not always be the case. It is essential to consider the properties of the graph and the implementation details of both algorithms before deciding which one to use. In this case, if I am dealing with dense graphs, Prim's algorithm may be a better option in terms of performance."
   ]
  }
 ],
 "metadata": {
  "kernelspec": {
   "display_name": "Python 3 (ipykernel)",
   "language": "python",
   "name": "python3"
  },
  "language_info": {
   "codemirror_mode": {
    "name": "ipython",
    "version": 3
   },
   "file_extension": ".py",
   "mimetype": "text/x-python",
   "name": "python",
   "nbconvert_exporter": "python",
   "pygments_lexer": "ipython3",
   "version": "3.10.0"
  }
 },
 "nbformat": 4,
 "nbformat_minor": 5
}
