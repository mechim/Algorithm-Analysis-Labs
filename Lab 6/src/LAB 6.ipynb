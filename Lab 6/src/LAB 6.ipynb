{
 "cells": [
  {
   "cell_type": "code",
   "execution_count": 80,
   "id": "da831d2a",
   "metadata": {},
   "outputs": [],
   "source": [
    "from numpy import sqrt\n",
    "import time\n",
    "from matplotlib import pyplot as plt"
   ]
  },
  {
   "cell_type": "markdown",
   "id": "3976aeca",
   "metadata": {},
   "source": [
    "# The Rabinowitz-Wagon algorithm"
   ]
  },
  {
   "cell_type": "markdown",
   "id": "e96dd193",
   "metadata": {},
   "source": [
    "The Rabinowitz-Wagon algorithm\n",
    "One of the first known algorithms of this type comes from A. Sale who, in 1968, devised a method to evaluate the digits of e[1]. Twenty years later, D. Saada proposed the use of a similar algorithm for the computation of π and in 1991 so did math hacker Stanley Rabinowitz.\n",
    "\n",
    "The latter further explored the concept in 1995 with his colleague Stan Wagon in an article in The American Mathematical Monthly[2]. In 2004 Jeremy Gibbons addressed one of the biggest weaknesses of the Rabinowitz-Wagon algorithm—the fact that the computation is bounded by design (meaning that one has to commit in advance to compute a certain number of digits)—in a separate American Mathematical Monthly article[3]. His proposed solution took advantage of the concept of streaming algorithms, something that allowed the calculation to run indefinitely.\n",
    "\n",
    "Rabinowitz and Wagon’s algorithm was based on the following expression derived from the Leibniz formula for π:"
   ]
  },
  {
   "cell_type": "code",
   "execution_count": 35,
   "id": "8ce1348e",
   "metadata": {},
   "outputs": [],
   "source": [
    "def leibniz_pi():\n",
    "    \"\"\"generator for digits of pi\"\"\"\n",
    "    q,r,t,k,n,l = 1,0,1,1,3,3\n",
    "    while True:\n",
    "        if 4*q+r-t < n*t:\n",
    "            yield n\n",
    "            q,r,t,k,n,l = (10*q,10*(r-n*t),t,k,(10*(3*q+r))//t-10*n,l)\n",
    "        else:\n",
    "            q,r,t,k,n,l = (q*k,(2*q+r)*l,t*l,k+1,(q*(7*k+2)+r*l)//(t*l),l+2)"
   ]
  },
  {
   "cell_type": "markdown",
   "id": "5b8a8304",
   "metadata": {},
   "source": [
    "# Geometric Mean"
   ]
  },
  {
   "cell_type": "code",
   "execution_count": 36,
   "id": "0b08a7a2",
   "metadata": {},
   "outputs": [],
   "source": [
    "from decimal import *\n",
    "\n",
    "def geometric_pi(n):\n",
    "    D = Decimal\n",
    "    getcontext().prec = n\n",
    "    a = n = D(1)\n",
    "    g, z, half = 1 / D(2).sqrt(), D(0.25), D(0.5)\n",
    "    for i in range(18):\n",
    "        x = [(a + g) * half, (a * g).sqrt()]\n",
    "        var = x[0] - a\n",
    "        z -= var * var * n\n",
    "        n += n\n",
    "        a, g = x    \n",
    "    return(a * a / z)"
   ]
  },
  {
   "cell_type": "markdown",
   "id": "6079e25a",
   "metadata": {},
   "source": [
    "# Lambert’s expression"
   ]
  },
  {
   "cell_type": "markdown",
   "id": "374e0560",
   "metadata": {},
   "source": [
    "The Gibbons-Lambert's spigot algorithm for calculating the digits of π (pi) using a generator. The Gibbons-Lambert's algorithm is a variant of the spigot algorithm that operates by extracting digits from a fraction rather than using long division.\n",
    "\n",
    "It's worth noting that the Gibbons-Lambert's algorithm is an alternative spigot algorithm for computing π. While it generates the digits of π in a streaming fashion, it may not be the most efficient or accurate algorithm for calculating a large number of digits of π compared to more advanced algorithms like the Chudnovsky algorithm or the Bailey-Borwein-Plouffe (BBP) algorithm."
   ]
  },
  {
   "cell_type": "code",
   "execution_count": 73,
   "id": "7b0837b5",
   "metadata": {},
   "outputs": [
    {
     "name": "stdout",
     "output_type": "stream",
     "text": [
      "[3, 1, 4, 1, 5, 9, 2, 6, 5, 3]\n"
     ]
    }
   ],
   "source": [
    "def gibbons_lamberts_pi():\n",
    "    q,r,s,t,n,i = 0,4,1,0,4,1\n",
    "    while True:\n",
    "        if n == (q*(5*i-2)+2*r)//(s*(5*i-2)+2*t):\n",
    "            yield n\n",
    "            q,r,s,t,n,i = 10*q-10*n*s,10*r-10*n*t,s,t,(10*((q-n*s)*(2*i-1)+r-n*t))//(s*(2*i-1)+t),i\n",
    "        else:\n",
    "            q,r,s,t,n,i = (2*i-1)*q+r,i*i*q,(2*i-1)*s+t,i*i*s,((5*i*i-1)*q+(2*i+1)*r)//((5*i*i-1)*s+(2*i+1)*t),i+1\n"
   ]
  },
  {
   "cell_type": "markdown",
   "id": "87db1038",
   "metadata": {},
   "source": [
    "# Driver Code"
   ]
  },
  {
   "cell_type": "code",
   "execution_count": 102,
   "id": "7377d623",
   "metadata": {
    "scrolled": false
   },
   "outputs": [],
   "source": [
    "n = 3  # Number of digits to calculate\n",
    "leibniz_times = []\n",
    "geometric_times = []\n",
    "gibbons_times = []\n",
    "cases = []\n",
    "\n",
    "for i in range(8):\n",
    "    n *= 3\n",
    "    cases.append(n)\n",
    "    \n",
    "    start = time.time()\n",
    "    pi = leibniz_pi()\n",
    "    solution = ([next(pi) for _ in range(n)])\n",
    "#     print(solution)\n",
    "    end = time.time()\n",
    "    leibniz_times.append(end-start)\n",
    "\n",
    "    start = time.time()\n",
    "    p = geometric_pi(n+1)\n",
    "    end = time.time()\n",
    "    geometric_times.append(end-start)\n",
    "\n",
    "    start = time.time()\n",
    "    pi = gibbons_lamberts_pi()\n",
    "    solution = ([next(pi) for _ in range(n)])\n",
    "    end = time.time()\n",
    "    gibbons_times.append(end-start)"
   ]
  },
  {
   "cell_type": "code",
   "execution_count": 107,
   "id": "3504e67f",
   "metadata": {
    "scrolled": false
   },
   "outputs": [
    {
     "data": {
      "image/png": "[encoded data removed]",
      "text/plain": [
       "<Figure size 640x480 with 1 Axes>"
      ]
     },
     "metadata": {},
     "output_type": "display_data"
    }
   ],
   "source": [
    "plt.plot(cases, leibniz_times, label = \"Rabinowitz-Wagon\" )\n",
    "plt.plot(cases, geometric_times, label = \"Geometric Mean\")\n",
    "plt.plot(cases, gibbons_times, label = \"Lambert's Expression\")\n",
    "plt.legend()\n",
    "plt.show()"
   ]
  },
  {
   "cell_type": "markdown",
   "id": "6e078bb3",
   "metadata": {},
   "source": [
    "# Conclusion"
   ]
  },
  {
   "cell_type": "markdown",
   "id": "3a182430",
   "metadata": {},
   "source": [
    "In my laboratory work, I compared the Rabinowitz-Wagon algorithm, the Geometric Mean algorithm, and the Gibbons-Lambert's algorithm for computing the nth digit of pi. It turned out that the fastest of them was the Rabinowitz-Wagon algorithm, followed by the Gibbons-Lambert's algorithm, and the slowest was the Geometric Mean algorithm. \n",
    "\n",
    "Through my experiments and analysis, I observed that the Rabinowitz-Wagon algorithm exhibited the highest speed and efficiency in generating the digits of pi compared to the other two algorithms. It proved to be the most efficient method for computing the nth digit of pi.\n",
    "\n",
    "The Gibbons-Lambert's algorithm, although not as fast as the Rabinowitz-Wagon algorithm, showed relatively good performance. It ranked as the second fastest algorithm, providing competitive speed and efficiency in generating the digits of pi.\n",
    "\n",
    "On the other hand, the Geometric Mean algorithm was the slowest among the three algorithms. It demonstrated lower speed and efficiency in computing the nth digit of pi compared to the Rabinowitz-Wagon and Gibbons-Lambert's algorithms.\n",
    "\n",
    "Based on these findings, I would recommend using the Rabinowitz-Wagon algorithm for fast and efficient computation of the nth digit of pi. However, depending on the specific requirements and constraints of the application, the Gibbons-Lambert's algorithm could also be a suitable alternative, offering a good balance between speed and efficiency.\n",
    "\n",
    "It is important to note that the performance of these algorithms may vary depending on the programming language, implementation details, and hardware configurations. Therefore, further experimentation and analysis may be necessary to validate these findings in different contexts."
   ]
  }
 ],
 "metadata": {
  "kernelspec": {
   "display_name": "Python 3 (ipykernel)",
   "language": "python",
   "name": "python3"
  },
  "language_info": {
   "codemirror_mode": {
    "name": "ipython",
    "version": 3
   },
   "file_extension": ".py",
   "mimetype": "text/x-python",
   "name": "python",
   "nbconvert_exporter": "python",
   "pygments_lexer": "ipython3",
   "version": "3.10.0"
  }
 },
 "nbformat": 4,
 "nbformat_minor": 5
}
