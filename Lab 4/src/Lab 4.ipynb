{
 "cells": [
  {
   "cell_type": "code",
   "execution_count": 45,
   "id": "81e6a47c",
   "metadata": {},
   "outputs": [],
   "source": [
    "import sys\n",
    "import math\n",
    "import os\n",
    "from matplotlib import pyplot as plt\n",
    "import time\n",
    "import random"
   ]
  },
  {
   "cell_type": "markdown",
   "id": "41a9f1a5",
   "metadata": {},
   "source": [
    "# Node"
   ]
  },
  {
   "cell_type": "code",
   "execution_count": 46,
   "id": "2b8e5b0f",
   "metadata": {},
   "outputs": [],
   "source": [
    "# A binary tree node has data, pointer to left child\n",
    "# and a pointer to right child\n",
    "class Node:\n",
    "    def __init__(self,data):\n",
    "        self.data=data\n",
    "        self.left=None\n",
    "        self.right=None"
   ]
  },
  {
   "cell_type": "markdown",
   "id": "6846712e",
   "metadata": {},
   "source": [
    "# Tree Balancer\n",
    "\n",
    "storeBSTNodes(root, nodes): This function traverses the given BST in an inorder manner and stores its nodes pointers in the nodes vector in sorted order.\n",
    "\n",
    "buildTreeUtil(nodes, start, end): This is a recursive function that constructs a balanced BST from the nodes vector. It takes the starting and ending indices of the nodes vector and returns the root of the balanced BST.\n",
    "\n",
    "buildTree(root): This is the main function that converts the unbalanced BST into a balanced BST. It first stores the nodes of the given BST in the nodes vector using the storeBSTNodes function, and then constructs a new BST from the nodes vector using the buildTreeUtil function."
   ]
  },
  {
   "cell_type": "code",
   "execution_count": 47,
   "id": "f3d1011f",
   "metadata": {},
   "outputs": [],
   "source": [
    "def storeBSTNodes(root,nodes):\n",
    "    \n",
    "    if not root:\n",
    "        return\n",
    "    \n",
    "    storeBSTNodes(root.left,nodes)\n",
    "    nodes.append(root)\n",
    "    storeBSTNodes(root.right,nodes)\n",
    "\n",
    "def buildTreeUtil(nodes,start,end):\n",
    "\n",
    "    if start>end:\n",
    "        return None\n",
    "\n",
    "    mid=(start+end)//2\n",
    "    node=nodes[mid]\n",
    "\n",
    "    node.left=buildTreeUtil(nodes,start,mid-1)\n",
    "    node.right=buildTreeUtil(nodes,mid+1,end)\n",
    "    return node\n",
    "\n",
    "def buildTree(root):\n",
    "    \n",
    "    nodes=[]\n",
    "    storeBSTNodes(root,nodes)\n",
    "\n",
    "    n=len(nodes)\n",
    "    return buildTreeUtil(nodes,0,n-1)"
   ]
  },
  {
   "cell_type": "markdown",
   "id": "a551e848",
   "metadata": {},
   "source": [
    "# DFS"
   ]
  },
  {
   "cell_type": "markdown",
   "id": "a5cb8fb2",
   "metadata": {},
   "source": [
    "## - Inorder\n",
    "\n",
    "The function takes a root node of a binary tree and a list of search values as input. It first checks if the root node exists, and if so, recursively calls itself on the left child of the current node. Then it checks if the data of the current node is in the searchValues list, and if so, it prints the node's data. The variable found is incremented to keep track of the number of found values. If found reaches 5, the function returns without continuing to traverse the rest of the tree. Finally, the function recursively calls itself on the right child of the current node."
   ]
  },
  {
   "cell_type": "code",
   "execution_count": 48,
   "id": "7ba979f3",
   "metadata": {},
   "outputs": [],
   "source": [
    "def inOrder(root, searchValues):\n",
    "    found = 0\n",
    "    if root:\n",
    "        if found == 5:\n",
    "            return\n",
    "        inOrder(root.left, searchValues)\n",
    "        if root.data in searchValues:\n",
    "            found += 1\n",
    "            print(root.data, end=\" \")\n",
    "        inOrder(root.right, searchValues)"
   ]
  },
  {
   "cell_type": "markdown",
   "id": "80663c57",
   "metadata": {},
   "source": [
    "# BFS\n",
    "\n",
    "This code implements a function called levelOrder which takes a root node of a binary tree and a list of search values as input, and prints out the nodes in the tree in level order. The height function computes the height of the tree, and the printCurrentLevel function prints the nodes at the current level of the tree.\n",
    "\n",
    "The printCurrentLevel function takes the root of the tree and a level as input. It recursively traverses the tree and prints the nodes at the given level, using a counter variable called foundBFS to keep track of the number of nodes that have been printed so far. If a node's data is in the searchValues list, it is printed and foundBFS is incremented. The function stops printing nodes if foundBFS reaches a value of 5."
   ]
  },
  {
   "cell_type": "code",
   "execution_count": 61,
   "id": "79bb58b5",
   "metadata": {},
   "outputs": [],
   "source": [
    "def levelOrder(root, searchValues):\n",
    "    found = 0\n",
    "    # Base Case\n",
    "    if root is None:\n",
    "        return\n",
    " \n",
    "    # Create an empty queue\n",
    "    # for level order traversal\n",
    "    queue = []\n",
    " \n",
    "    # Enqueue Root and initialize height\n",
    "    queue.append(root)\n",
    " \n",
    "    while(len(queue) > 0):\n",
    " \n",
    "        # Print front of queue and\n",
    "        # remove it from queue\n",
    "#         print(queue[0].data, end = \" \")\n",
    "        if queue[0].data in searchValues:\n",
    "            found += 1\n",
    "            if found >= 5:\n",
    "                return\n",
    "        node = queue.pop(0)\n",
    " \n",
    "        # Enqueue left child\n",
    "        if node.left is not None:\n",
    "            queue.append(node.left)\n",
    " \n",
    "        # Enqueue right child\n",
    "        if node.right is not None:\n",
    "            queue.append(node.right)\n",
    " "
   ]
  },
  {
   "cell_type": "markdown",
   "id": "0a27c45e",
   "metadata": {},
   "source": [
    "## Tree generator\n",
    "\n",
    "I generate the trees by using an list of litsts, I create the list of lists randomly using a probability variable so that the tree doesn't get generated balanced. Then, I insert the root as the fist list. Then, I iterate over the list of lists and connect those nodes"
   ]
  },
  {
   "cell_type": "code",
   "execution_count": 52,
   "id": "640a5eed",
   "metadata": {},
   "outputs": [],
   "source": [
    "def treeGenerator(root, depth):\n",
    "    possibleNodes = []\n",
    "#     newNodeIndex = 0\n",
    "\n",
    "    for i in range(100000):\n",
    "        possibleNodes.append(i)\n",
    "    \n",
    "    length = 2\n",
    "    treee = []\n",
    "    probability = 80\n",
    "    for i in range(depth):\n",
    "        level = []\n",
    "        i = 0\n",
    "        for i in range(length):\n",
    "            if random.randint(0,100) <= probability:\n",
    "#                 newNodeIndex = random.randint(0,len(possibleNodes))\n",
    "                newNode = random.choice(possibleNodes)\n",
    "#                 level.append(Node(possibleNodes[newNodeIndex]))\n",
    "                level.append(Node(newNode))\n",
    "                possibleNodes.remove(newNode)\n",
    "        length = 2 * len(level)\n",
    "        treee.append(level)\n",
    "\n",
    "    treee.insert(0, [root])\n",
    "\n",
    "    for i in range(len(treee)):\n",
    "        k = 0\n",
    "        for j in range(len(treee[i])):\n",
    "            if i >= len(treee)-1:\n",
    "                break\n",
    "            treee[i][j].left = treee[i+1][k]\n",
    "            if k >= len(treee[i+1])-1:\n",
    "                break\n",
    "            if treee[i+1][k+1] != None:\n",
    "                k += 1\n",
    "                treee[i][j].right = treee[i+1][k]\n",
    "            if k >= len(treee[i+1])-1:\n",
    "                break\n",
    "            k += 1\n",
    "    \n",
    "    return treee"
   ]
  },
  {
   "cell_type": "markdown",
   "id": "61c2524f",
   "metadata": {},
   "source": [
    "## Tree visualizer\n",
    "\n",
    "I print the tree in a format that is used by Graphiz"
   ]
  },
  {
   "cell_type": "code",
   "execution_count": 53,
   "id": "2a088345",
   "metadata": {
    "scrolled": true
   },
   "outputs": [],
   "source": [
    "def visualizeTree(tree):\n",
    "    for r in tree:\n",
    "        for c in r:\n",
    "            if (c.left != None):\n",
    "                print (str(c.data) + \" -> \" + str(c.left.data))\n",
    "            if (c.right != None):\n",
    "                print (str(c.data) + \" -> \" + str(c.right.data))"
   ]
  },
  {
   "cell_type": "markdown",
   "id": "f55dcd17",
   "metadata": {},
   "source": [
    "## Length of tree"
   ]
  },
  {
   "cell_type": "code",
   "execution_count": 54,
   "id": "82988848",
   "metadata": {},
   "outputs": [],
   "source": [
    "def lengthOfTree(tree):\n",
    "    length = 0\n",
    "    for r in tree:\n",
    "        for c in r:\n",
    "            length += 1\n",
    "    return length"
   ]
  },
  {
   "cell_type": "markdown",
   "id": "53bb1c9a",
   "metadata": {},
   "source": [
    "## Generate random values to look for\n",
    "\n",
    "I pick random nodes from the tree to look for during the time test"
   ]
  },
  {
   "cell_type": "code",
   "execution_count": 12,
   "id": "0b062a2a",
   "metadata": {
    "scrolled": false
   },
   "outputs": [],
   "source": [
    "def generateValuesToFind(tree):\n",
    "    values = []\n",
    "    toFind = []\n",
    "    for r in tree:\n",
    "        for c in r:\n",
    "            values.append(c.data)\n",
    "    \n",
    "    for i in range(5):\n",
    "        toFind.append(values[random.randint(0, len(values))])\n",
    "        \n",
    "    return toFind"
   ]
  },
  {
   "cell_type": "markdown",
   "id": "e34b846e",
   "metadata": {},
   "source": [
    "# Main"
   ]
  },
  {
   "cell_type": "code",
   "execution_count": 64,
   "id": "cadeddb3",
   "metadata": {},
   "outputs": [
    {
     "name": "stdout",
     "output_type": "stream",
     "text": [
      "90071 67188 27077 26946 33520 8408 81505 14613 27692 83555 63469 69733 51156 13128 80674 84779 4834 49167 71046 52079 712 8413 77838 34101 "
     ]
    }
   ],
   "source": [
    "timesDFS = []\n",
    "balancedTimesDFS = []\n",
    "timesBFS = []\n",
    "balancedTimesBFS = []\n",
    "variants = [5, 10, 15, 17, 20]\n",
    "\n",
    "for i in variants:\n",
    "    root = Node(random.randint(0,100))\n",
    "    tree = treeGenerator(root, i)\n",
    "    searchValues = generateValuesToFind(tree)\n",
    "    #check DFS on unbalanced trees\n",
    "    start = time.time()\n",
    "    inOrder(root, searchValues)\n",
    "    end = time.time()\n",
    "    timesDFS.append(end-start)\n",
    "    #check BFS on balanced trees\n",
    "    start = time.time()\n",
    "    foundBFS = 0\n",
    "    levelOrder(root, searchValues)\n",
    "    end = time.time()\n",
    "    timesBFS.append(end-start)\n",
    "    #balance the trees\n",
    "    buildTree(root)\n",
    "    #DFS\n",
    "    start = time.time()\n",
    "    inOrder(root, searchValues)\n",
    "    end = time.time()\n",
    "    balancedTimesDFS.append(end-start)\n",
    "    #BFS\n",
    "    start = time.time()\n",
    "    levelOrder(root, searchValues)\n",
    "    end = time.time()\n",
    "    balancedTimesBFS.append(end-start)"
   ]
  },
  {
   "cell_type": "code",
   "execution_count": 65,
   "id": "b4cbf06a",
   "metadata": {},
   "outputs": [
    {
     "data": {
      "image/png": "[encoded data removed]",
      "text/plain": [
       "<Figure size 640x480 with 1 Axes>"
      ]
     },
     "metadata": {},
     "output_type": "display_data"
    }
   ],
   "source": [
    "plt.plot(variants, timesDFS, '--o', label = 'Unbalanced DFS')\n",
    "plt.plot(variants, balancedTimesDFS, 'k-o', label = 'Balanced DFS')\n",
    "plt.plot(variants, timesBFS, '--o', label = 'Unbalanced BFS')\n",
    "plt.plot(variants, balancedTimesBFS, ':o', label = 'Balanced BFS')\n",
    "plt.title('Comparison')\n",
    "plt.legend()\n",
    "plt.show()"
   ]
  },
  {
   "cell_type": "markdown",
   "id": "52ec5339",
   "metadata": {},
   "source": [
    "# Conclusion\n",
    "\n",
    "The speed of DFS (depth-first search) and BFS (breadth-first search) traversal of a graph or tree can vary depending on the structure of the graph or tree and the specific algorithm used to implement the traversal.\n",
    "\n",
    "In general, BFS tends to be faster than DFS for finding the shortest path between two nodes in a graph, as it explores nodes in order of their distance from the starting node. BFS can also be more efficient than DFS for searching a graph with a high branching factor, as it explores nodes at each depth level before moving on to deeper levels.\n",
    "\n",
    "However, in some cases, DFS may be faster than BFS. For example, if the graph is very deep and the solution is located near the bottom, DFS can reach the solution more quickly than BFS. Additionally, DFS can be more memory-efficient than BFS, as it only needs to store the path to the current node in the call stack, whereas BFS requires a queue to store all the nodes at each level.\n",
    "\n",
    "Ultimately, the choice between DFS and BFS depends on the specific problem being solved and the characteristics of the graph or tree being traversed.\n",
    "\n",
    "Usually DFS uses a stack, but because I use binary trees, the DFS doesn't have to use a stack and tends to be faster in this specific instance\n",
    "\n",
    "DFS (depth-first search) for binary trees is typically faster than DFS for general graphs because binary trees have a well-defined structure that allows for more efficient traversal. Specifically, binary trees have a maximum of two child nodes per parent node, which means that the traversal can proceed in a more organized and predictable manner.\n",
    "\n",
    "In a binary tree, DFS can be implemented recursively by traversing the left and right subtrees of each node in turn. This approach ensures that every node is visited exactly once, and the traversal can be completed in O(n) time, where n is the number of nodes in the tree.\n",
    "\n",
    "In contrast, DFS for general graphs can be more complex and less efficient, as the graph may have cycles or disconnected components that require additional logic to handle. DFS on a graph can visit the same node multiple times, which can lead to an exponential number of paths being explored, making it less efficient than BFS in some cases.\n",
    "\n",
    "Furthermore, a binary tree can be efficiently traversed using iterative DFS, which avoids the overhead of recursive function calls. In contrast, iterative DFS on a graph requires more complex data structures such as a stack or a visited set to keep track of visited nodes and the traversal path.\n",
    "\n",
    "Overall, the structure of binary trees allows for more efficient and straightforward implementation of DFS compared to general graphs, which is why DFS for binary trees is typically faster than for graphs."
   ]
  }
 ],
 "metadata": {
  "kernelspec": {
   "display_name": "Python 3 (ipykernel)",
   "language": "python",
   "name": "python3"
  },
  "language_info": {
   "codemirror_mode": {
    "name": "ipython",
    "version": 3
   },
   "file_extension": ".py",
   "mimetype": "text/x-python",
   "name": "python",
   "nbconvert_exporter": "python",
   "pygments_lexer": "ipython3",
   "version": "3.10.0"
  }
 },
 "nbformat": 4,
 "nbformat_minor": 5
}
