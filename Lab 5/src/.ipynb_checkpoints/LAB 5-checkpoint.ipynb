{
 "cells": [
  {
   "cell_type": "markdown",
   "id": "aea53cd3",
   "metadata": {},
   "source": [
    "# Imports"
   ]
  },
  {
   "cell_type": "code",
   "execution_count": 1,
   "id": "b66a8c0a",
   "metadata": {},
   "outputs": [],
   "source": [
    "import random\n",
    "from matplotlib import pyplot as plt\n",
    "import time\n",
    "from collections import defaultdict\n",
    "from math import inf"
   ]
  },
  {
   "cell_type": "markdown",
   "id": "7cd320a6",
   "metadata": {},
   "source": [
    "# Graph"
   ]
  },
  {
   "cell_type": "markdown",
   "id": "220edf5d",
   "metadata": {},
   "source": [
    "This is a Python class definition for a graph data structure. The graph is represented as a set of vertices and a dictionary of edges.\n",
    "\n",
    "The Graph class has three instance variables:\n",
    "\n",
    "`self.vertices`: a set containing the vertices of the graph\n",
    "`self.edges`: a dictionary containing the edges of the graph, represented as a nested dictionary of the form `{u: {v: weight}}`\n",
    "`self.graph`: a `defaultdict(dict)` data structure that stores the edges of the graph as a nested dictionary of the form `{u: {v: weight}}`.\n",
    "The class has three methods:\n",
    "\n",
    "`__init__(self)`: a constructor that initializes the instance variables to empty sets/dictionaries.\n",
    "`add_edge(self, u, v, weight)`: a method that adds an edge between vertices `u` and `v` with weight `weight`. It adds the vertices to `self.vertices` if they are not already in the set, and updates the self.edges dictionary with the new edge.\n",
    "`get_neighbors(self, u)`: a method that returns the neighbors of vertex u as a dictionary of the form `{v: weight}`. It uses `self.graph` to access the neighbors of `u`.\n",
    "`get_vertices(self)`: a method that returns a list of the vertices in the graph. It uses list(`self.graph.keys()`) to access the vertices in the graph.\n",
    "Overall, this is a simple and efficient implementation of an undirected graph with weighted edges in Python."
   ]
  },
  {
   "cell_type": "code",
   "execution_count": 13,
   "id": "796a8056",
   "metadata": {},
   "outputs": [],
   "source": [
    "class Graph:\n",
    "    def __init__(self):\n",
    "        self.vertices = set()\n",
    "        self.edges = {}\n",
    "        self.graph = defaultdict(dict)\n",
    "        \n",
    "    def add_edge(self, u, v, weight):\n",
    "        self.vertices.add(u)\n",
    "        self.vertices.add(v)\n",
    "        if u not in self.edges:\n",
    "            self.edges[u] = {}\n",
    "        if v not in self.edges[u]:\n",
    "            self.edges[u][v] = float('inf')\n",
    "        self.edges[u][v] = weight\n",
    "        if v not in self.edges:\n",
    "            self.edges[v] = {}\n",
    "        if u not in self.edges[v]:\n",
    "            self.edges[v][u] = float('inf')\n",
    "        self.edges[v][u] = weight\n",
    "\n",
    "    def get_neighbors(self, u):\n",
    "        return self.graph[u].items()\n",
    "\n",
    "    def get_vertices(self):\n",
    "        return list(self.graph.keys())\n"
   ]
  },
  {
   "cell_type": "markdown",
   "id": "edd8aa1f",
   "metadata": {},
   "source": [
    "# Dijkstra"
   ]
  },
  {
   "cell_type": "markdown",
   "id": "1ae84df5",
   "metadata": {},
   "source": [
    "This is an implementation of Dijkstra's algorithm in Python, which is used to find the shortest path between a source vertex and all other vertices in a weighted graph.\n",
    "\n",
    "The `dijkstra` function takes two arguments: `graph` is an instance of the `Graph` class defined earlier, and source is the source vertex from which we want to find the shortest paths to all other vertices.\n",
    "\n",
    "The function initializes a dictionary `dist` with the distances from the source vertex to all other vertices in the graph. Initially, all distances are set to infinity except for the distance from the source vertex to itself, which is set to zero. It also initializes a set visited to keep track of the vertices visited so far.\n",
    "\n",
    "The function then enters a loop that continues until all vertices have been visited. In each iteration of the loop, it finds the vertex with the smallest distance from the source vertex that has not been visited yet. This is done by taking the set difference between all vertices and visited vertices, and selecting the vertex with the minimum distance using the `min` function and the key argument to extract the distance.\n",
    "\n",
    "Once a vertex is selected, the function visits all its neighbors and updates their tentative distances if they can be improved by going through the current vertex. If the tentative distance to a neighbor is less than its current distance, the distance is updated in the `dist` dictionary.\n",
    "\n",
    "Finally, the function returns the `dist` dictionary with the shortest distances from the source vertex to all other vertices.\n",
    "\n",
    "Overall, this is a concise and efficient implementation of Dijkstra's algorithm in Python using the Graph class defined earlier."
   ]
  },
  {
   "cell_type": "code",
   "execution_count": 4,
   "id": "4695d5d1",
   "metadata": {},
   "outputs": [],
   "source": [
    "def dijkstra(graph, source):\n",
    "    dist = {vertex: inf for vertex in graph.get_vertices()}\n",
    "    dist[source] = 0\n",
    "    visited = set()\n",
    "\n",
    "    while len(visited) < len(graph.get_vertices()):\n",
    "        current_vertex = min(set(dist.keys()) - visited, key=dist.get)\n",
    "        visited.add(current_vertex)\n",
    "\n",
    "        for neighbor, weight in graph.get_neighbors(current_vertex):\n",
    "            tentative_distance = dist[current_vertex] + weight\n",
    "            if tentative_distance < dist[neighbor]:\n",
    "                dist[neighbor] = tentative_distance\n",
    "\n",
    "    return dist\n"
   ]
  },
  {
   "cell_type": "markdown",
   "id": "107678cc",
   "metadata": {},
   "source": [
    "# Floyd-Warshall"
   ]
  },
  {
   "cell_type": "markdown",
   "id": "cbbf48b0",
   "metadata": {},
   "source": [
    "This is an implementation of the Floyd-Warshall algorithm in Python, which is used to find the shortest path between all pairs of vertices in a weighted graph.\n",
    "\n",
    "The `floyd_warshall` function takes one argument: `graph`, an instance of the `Graph` class defined earlier. The function initializes a dictionary `dist` to store the shortest distances between all pairs of vertices. \n",
    "\n",
    "In the first loop, the function initializes the `dist` dictionary with the initial distances between vertices. For each vertex `u`, it initializes a nested dictionary with distances to all other vertices. If `u` is the same as `v`, the distance between them is set to 0. If there is an edge between `u` and `v`, the distance is set to the weight of that edge. Otherwise, the distance is set to infinity.\n",
    "\n",
    "The second loop implements the Floyd-Warshall algorithm by iteratively considering intermediate vertices between all pairs of vertices. For each intermediate vertex `k`, the function updates the distances between all pairs of vertices `i` and `j` if the distance between `i` and `j` can be improved by going through `k`. If the distance between `i` and `j` is greater than the sum of the distance between `i` and `k` and the distance between `k` and `j`, the distance between `i` and `j` is updated to the sum of the distances between `i` and `k` and `k` and `j`.\n",
    "\n",
    "Finally, the function returns the `dist` dictionary with the shortest distances between all pairs of vertices.\n",
    "\n",
    "Overall, this is a concise and efficient implementation of the Floyd-Warshall algorithm in Python using the `Graph` class defined earlier."
   ]
  },
  {
   "cell_type": "code",
   "execution_count": 6,
   "id": "17d9d9e6",
   "metadata": {},
   "outputs": [],
   "source": [
    "def floyd_warshall(graph):\n",
    "    dist = {}\n",
    "    for u in graph.get_vertices():\n",
    "        dist[u] = {}\n",
    "        for v in graph.get_vertices():\n",
    "            if u == v:\n",
    "                dist[u][v] = 0\n",
    "            elif v in graph.graph[u]:\n",
    "                dist[u][v] = graph.graph[u][v]\n",
    "            else:\n",
    "                dist[u][v] = inf\n",
    "\n",
    "    for k in graph.get_vertices():\n",
    "        for i in graph.get_vertices():\n",
    "            for j in graph.get_vertices():\n",
    "                if dist[i][j] > dist[i][k] + dist[k][j]:\n",
    "                    dist[i][j] = dist[i][k] + dist[k][j]\n",
    "\n",
    "    return dist\n"
   ]
  },
  {
   "cell_type": "markdown",
   "id": "5be43a66",
   "metadata": {},
   "source": [
    "# Graph Generator"
   ]
  },
  {
   "cell_type": "markdown",
   "id": "c593c5f2",
   "metadata": {},
   "source": [
    "This code defines a function `generate_graph` which takes in three parameters: `num_vertices`, `density`, and `weight_range`. \n",
    "\n",
    "The function generates a graph by first creating an instance of the `Graph` class. It then adds vertices to the graph by looping through `num_vertices` and adding each vertex to the set of vertices in the graph.\n",
    "\n",
    "Next, it generates edges for the graph by looping through each pair of vertices and checking if an edge should be added based on the `density` parameter. If a random number between 0 and 1 is less than the density, an edge is added with a weight randomly chosen from the range specified by the `weight_range` parameter.\n",
    "\n",
    "Finally, the function returns the generated graph."
   ]
  },
  {
   "cell_type": "code",
   "execution_count": 8,
   "id": "0127b1a3",
   "metadata": {},
   "outputs": [],
   "source": [
    "def generate_graph(num_vertices, density, weight_range):\n",
    "    \"\"\"\n",
    "    Generate a graph with the specified number of vertices, density, and weight range.\n",
    "    Density is a float between 0 and 1, where 0 means the graph will have no edges and 1 means\n",
    "    the graph will be fully connected.\n",
    "    Weight range is a tuple of integers specifying the minimum and maximum weight of edges.\n",
    "    \"\"\"\n",
    "    g = Graph()\n",
    "\n",
    "    # Add vertices\n",
    "    for i in range(num_vertices):\n",
    "        g.vertices.add(i)\n",
    "\n",
    "    # Add edges\n",
    "    for i in range(num_vertices):\n",
    "        for j in range(i + 1, num_vertices):\n",
    "            if random.random() < density:\n",
    "                weight = random.randint(weight_range[0], weight_range[1])\n",
    "                g.add_edge(i, j, weight)\n",
    "\n",
    "    return g"
   ]
  },
  {
   "cell_type": "markdown",
   "id": "24f5a270",
   "metadata": {},
   "source": [
    "# Driver Code"
   ]
  },
  {
   "cell_type": "code",
   "execution_count": 36,
   "id": "40675179",
   "metadata": {},
   "outputs": [],
   "source": [
    "size = 1\n",
    "variants = []\n",
    "dijkstra_dense_times = []\n",
    "floyd_dense_times = []\n",
    "dijkstra_sparse_times = []\n",
    "floyd_sparse_times = []\n",
    "\n",
    "for i in range(5):   \n",
    "    size *= 5\n",
    "    variants.append(size)\n",
    "    graph = generate_graph(size, .8, (1,100))\n",
    "    start = time.time()\n",
    "    #dijkstra dense graph\n",
    "    for j in graph.vertices:\n",
    "        start_vertex = j  \n",
    "        shortest_distances = dijkstra(graph, 0)\n",
    "    end = time.time()\n",
    "    dijkstra_dense_times.append(end-start)\n",
    "    #floyd warshall dense graph\n",
    "    start = time.time()\n",
    "    shortest_distances = floyd_warshall(graph)\n",
    "    end = time.time()\n",
    "    floyd_dense_times.append(end-start)\n",
    "    \n",
    "    graph = generate_graph(size, .3, (1,100))\n",
    "    \n",
    "    start = time.time()\n",
    "    #dijkstra sparse graph\n",
    "    for j in graph.vertices:\n",
    "        start_vertex = j  \n",
    "        shortest_distances = dijkstra(graph, 0)\n",
    "    end = time.time()\n",
    "    dijkstra_sparse_times.append(end-start)\n",
    "    #floyd warshall sparse graph\n",
    "    start = time.time()\n",
    "    shortest_distances = floyd_warshall(graph)\n",
    "    end = time.time()\n",
    "    floyd_sparse_times.append(end-start)\n",
    "\n"
   ]
  },
  {
   "cell_type": "markdown",
   "id": "05b73283",
   "metadata": {},
   "source": [
    "# Plotting"
   ]
  },
  {
   "cell_type": "code",
   "execution_count": 37,
   "id": "bd651581",
   "metadata": {},
   "outputs": [
    {
     "data": {
      "image/png": "[encoded data removed]",
      "text/plain": [
       "<Figure size 640x480 with 1 Axes>"
      ]
     },
     "metadata": {},
     "output_type": "display_data"
    }
   ],
   "source": [
    "plt.plot(variants, dijkstra_dense_times, '-o', label = \"Dijkstra Dense\")\n",
    "plt.plot(variants, floyd_dense_times, '-o', label = \"Floyd Warshall Dense\")\n",
    "plt.plot(variants, dijkstra_sparse_times, '-o', label = \"Dijkstra Sparse\")\n",
    "plt.plot(variants, floyd_sparse_times, '-o', label = \"Floyd Warshall Sparse\")\n",
    "\n",
    "plt.legend()\n",
    "plt.show()"
   ]
  },
  {
   "cell_type": "markdown",
   "id": "4a483c09",
   "metadata": {},
   "source": [
    "# Conclusion"
   ]
  },
  {
   "cell_type": "markdown",
   "id": "009e7a7f",
   "metadata": {},
   "source": [
    "In this laboratory work, I conducted a comparative analysis of the Dijkstra's algorithm and the Floyd-Warshall's algorithm in their ability to perform the \"any-to-any\" shortest path calculations on both sparse and dense graphs. My objective was to evaluate the efficiency and performance of these algorithms in different scenarios.\n",
    "\n",
    "Based on the experimentation and analysis, I discovered that Dijkstra's algorithm exhibited slower performance compared to the Floyd-Warshall's algorithm in both the sparse and dense graph cases. This finding contradicts the conventional understanding that Dijkstra's algorithm performs better on sparse graphs.\n",
    "\n",
    "The observed slower performance of Dijkstra's algorithm can be attributed to its nature of finding the shortest path from a single source vertex to all other vertices in the graph. For every vertex, Dijkstra's algorithm iteratively selects the unvisited vertex with the smallest tentative distance. This process can be computationally expensive in situations where there are a large number of vertices, leading to slower execution times.\n",
    "\n",
    "On the other hand, the Floyd-Warshall's algorithm utilizes dynamic programming to calculate the shortest paths between all pairs of vertices. It iteratively updates the shortest path matrix by considering all possible intermediate vertices. This approach, although computationally more intensive, results in a time complexity of O(V^3), where V represents the number of vertices in the graph. This time complexity remains constant irrespective of whether the graph is sparse or dense.\n",
    "\n",
    "Therefore, in scenarios where \"any-to-any\" shortest path calculations are required, especially on graphs with a large number of vertices, the Floyd-Warshall's algorithm proves to be a more efficient choice over Dijkstra's algorithm. However, it is worth noting that the space complexity of the Floyd-Warshall's algorithm is O(V^2), which might become a limiting factor for very large graphs.\n",
    "\n",
    "To further improve the accuracy of this conclusion, additional experiments could be conducted using a wider range of graph sizes and densities, as well as considering different metrics such as memory usage and scalability. Nonetheless, based on the results obtained from this laboratory work, it is evident that for the specific scenarios evaluated, the Floyd-Warshall's algorithm outperforms Dijkstra's algorithm in terms of execution time."
   ]
  }
 ],
 "metadata": {
  "kernelspec": {
   "display_name": "Python 3 (ipykernel)",
   "language": "python",
   "name": "python3"
  },
  "language_info": {
   "codemirror_mode": {
    "name": "ipython",
    "version": 3
   },
   "file_extension": ".py",
   "mimetype": "text/x-python",
   "name": "python",
   "nbconvert_exporter": "python",
   "pygments_lexer": "ipython3",
   "version": "3.10.0"
  }
 },
 "nbformat": 4,
 "nbformat_minor": 5
}
